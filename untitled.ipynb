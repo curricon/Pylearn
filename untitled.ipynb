{
  "nbformat": 4,
  "nbformat_minor": 0,
  "metadata": {
    "colab": {
      "name": ".ipynb",
      "provenance": [],
      "authorship_tag": "ABX9TyNa6+z1ougkYbmI0qvMQ3HZ",
      "include_colab_link": true
    },
    "kernelspec": {
      "name": "python3",
      "display_name": "Python 3"
    }
  },
  "cells": [
    {
      "cell_type": "markdown",
      "metadata": {
        "id": "view-in-github",
        "colab_type": "text"
      },
      "source": [
        "<a href=\"https://colab.research.google.com/github/curricon/Pylearn/blob/main/untitled.ipynb\" target=\"_parent\"><img src=\"https://colab.research.google.com/assets/colab-badge.svg\" alt=\"Open In Colab\"/></a>"
      ]
    },
    {
      "cell_type": "code",
      "metadata": {
        "id": "gWN8z6GNAPst"
      },
      "source": [
        "import pandas as pd\r\n",
        "import numpy as np\r\n",
        "import matplotlib.pyplot as plt"
      ],
      "execution_count": 1,
      "outputs": []
    },
    {
      "cell_type": "code",
      "metadata": {
        "id": "K0ZXjLH-ASfL"
      },
      "source": [
        "df = pd.read_csv('https://raw.githubusercontent.com/Santigs/DS-Course/main/Titanic.csv')"
      ],
      "execution_count": 10,
      "outputs": []
    },
    {
      "cell_type": "code",
      "metadata": {
        "id": "XCGT4wLgA2J4"
      },
      "source": [
        "df.columns"
      ],
      "execution_count": null,
      "outputs": []
    },
    {
      "cell_type": "code",
      "metadata": {
        "colab": {
          "base_uri": "https://localhost:8080/"
        },
        "id": "SaLKWSRYBU7Q",
        "outputId": "1f0e10ff-7feb-4f3a-c4c6-e70722c1c1ce"
      },
      "source": [
        "df.shape"
      ],
      "execution_count": 13,
      "outputs": [
        {
          "output_type": "execute_result",
          "data": {
            "text/plain": [
              "(891, 12)"
            ]
          },
          "metadata": {
            "tags": []
          },
          "execution_count": 13
        }
      ]
    },
    {
      "cell_type": "code",
      "metadata": {
        "colab": {
          "base_uri": "https://localhost:8080/"
        },
        "id": "svkhTAM1BV1G",
        "outputId": "cfd25603-1bd9-4469-b814-176d5ee9023d"
      },
      "source": [
        "df.info()"
      ],
      "execution_count": 19,
      "outputs": [
        {
          "output_type": "stream",
          "text": [
            "<class 'pandas.core.frame.DataFrame'>\n",
            "RangeIndex: 891 entries, 0 to 890\n",
            "Data columns (total 12 columns):\n",
            " #   Column       Non-Null Count  Dtype  \n",
            "---  ------       --------------  -----  \n",
            " 0   PassengerId  891 non-null    int64  \n",
            " 1   Survived     891 non-null    int64  \n",
            " 2   Pclass       891 non-null    int64  \n",
            " 3   Name         891 non-null    object \n",
            " 4   Sex          891 non-null    object \n",
            " 5   Age          714 non-null    float64\n",
            " 6   SibSp        891 non-null    int64  \n",
            " 7   Parch        891 non-null    int64  \n",
            " 8   Ticket       891 non-null    object \n",
            " 9   Fare         891 non-null    float64\n",
            " 10  Cabin        204 non-null    object \n",
            " 11  Embarked     889 non-null    object \n",
            "dtypes: float64(2), int64(5), object(5)\n",
            "memory usage: 83.7+ KB\n"
          ],
          "name": "stdout"
        }
      ]
    },
    {
      "cell_type": "code",
      "metadata": {
        "id": "5u44lyItBWiz"
      },
      "source": [
        "df.head()"
      ],
      "execution_count": null,
      "outputs": []
    },
    {
      "cell_type": "code",
      "metadata": {
        "id": "S9_9liWnEhC3"
      },
      "source": [
        "df.tail()"
      ],
      "execution_count": null,
      "outputs": []
    },
    {
      "cell_type": "code",
      "metadata": {
        "id": "KVK10jAfEu3Z"
      },
      "source": [
        "df.describe()"
      ],
      "execution_count": null,
      "outputs": []
    },
    {
      "cell_type": "code",
      "metadata": {
        "id": "4p9pjA5UE8N9"
      },
      "source": [
        "df.describe(include=[bool,object])"
      ],
      "execution_count": null,
      "outputs": []
    },
    {
      "cell_type": "code",
      "metadata": {
        "id": "0MfTFozSFPZH"
      },
      "source": [
        "df.Fare.mean()"
      ],
      "execution_count": null,
      "outputs": []
    },
    {
      "cell_type": "code",
      "metadata": {
        "id": "LBh0qx5KFflJ"
      },
      "source": [
        "df[df['Survived']==1].mean()"
      ],
      "execution_count": null,
      "outputs": []
    },
    {
      "cell_type": "code",
      "metadata": {
        "id": "gra9IFOjGRgd"
      },
      "source": [
        "df1 = df[['Pclass','Sex', 'Age']]\r\n",
        "df"
      ],
      "execution_count": null,
      "outputs": []
    },
    {
      "cell_type": "code",
      "metadata": {
        "id": "XUzsToa3GZ1S"
      },
      "source": [
        "df.iloc[:,3:6]"
      ],
      "execution_count": null,
      "outputs": []
    },
    {
      "cell_type": "code",
      "metadata": {
        "id": "2P6ZU0tnHAOU"
      },
      "source": [
        "df[(df['Survived'] == 1) & (df['Pclass'] == 1)]['Age'].max()"
      ],
      "execution_count": null,
      "outputs": []
    },
    {
      "cell_type": "code",
      "metadata": {
        "id": "LAAvo42CHed5"
      },
      "source": [
        "df[(df['Survived'] == 0) & (df['Pclass'] == 1)]['Age'].max()"
      ],
      "execution_count": null,
      "outputs": []
    },
    {
      "cell_type": "code",
      "metadata": {
        "id": "l52xUbFaHzcI"
      },
      "source": [
        "x = {1 : 'Clas I', 2 : 'Class II', 3:'CLass III'}\r\n",
        "df_new=df.replace({'Pclass': x})\r\n",
        "df_new.head(20)"
      ],
      "execution_count": null,
      "outputs": []
    },
    {
      "cell_type": "code",
      "metadata": {
        "id": "-tcvio9aH7oh"
      },
      "source": [
        "survived_count = df.groupby('Survived')['Survived'].count()\r\n",
        "survived_count"
      ],
      "execution_count": null,
      "outputs": []
    },
    {
      "cell_type": "code",
      "metadata": {
        "id": "ecOfe4k2IwJN"
      },
      "source": [
        "type(survived_count)"
      ],
      "execution_count": null,
      "outputs": []
    },
    {
      "cell_type": "code",
      "metadata": {
        "id": "xTIfGe-7JNFS"
      },
      "source": [
        "var_of_interest = ['Fare', 'Age']\r\n",
        "df.groupby(['Survived'])[var_of_interest].agg([np.mean, np.std, np.min, np.max])"
      ],
      "execution_count": null,
      "outputs": []
    },
    {
      "cell_type": "code",
      "metadata": {
        "id": "WiX0wzEHJcOP"
      },
      "source": [
        "pd.crosstab(df['Survived'], df['Pclass'])"
      ],
      "execution_count": null,
      "outputs": []
    },
    {
      "cell_type": "markdown",
      "metadata": {
        "id": "2kY6MtdpJx-S"
      },
      "source": [
        "**CHARTS**"
      ]
    },
    {
      "cell_type": "code",
      "metadata": {
        "id": "ioFokc7DKgS6"
      },
      "source": [
        "import seaborn as sns; sns.set()"
      ],
      "execution_count": 72,
      "outputs": []
    },
    {
      "cell_type": "code",
      "metadata": {
        "colab": {
          "base_uri": "https://localhost:8080/",
          "height": 322
        },
        "id": "NpiiiN4VJosg",
        "outputId": "d90a4564-4dc9-4b54-f69a-7916238a87e0"
      },
      "source": [
        "plt.figure(figsize=(4,5))\r\n",
        "plt.bar(survived_count.index, survived_count.values)\r\n",
        "plt.show()"
      ],
      "execution_count": 74,
      "outputs": [
        {
          "output_type": "display_data",
          "data": {
            "image/png": "[encoded data removed]",
            "text/plain": [
              "<Figure size 288x360 with 1 Axes>"
            ]
          },
          "metadata": {
            "tags": []
          }
        }
      ]
    },
    {
      "cell_type": "code",
      "metadata": {
        "colab": {
          "base_uri": "https://localhost:8080/",
          "height": 338
        },
        "id": "aMrEPdfUJ4uE",
        "outputId": "4988ed1a-7ac9-428b-fe10-6cf28e4c5aff"
      },
      "source": [
        "plt.figure(figsize=(4,5))\r\n",
        "plt.bar(survived_count.index, survived_count.values)\r\n",
        "plt.title('Grouped by survival')\r\n",
        "plt.xticks([0,1], ['Not survived', 'Survived'])\r\n",
        "for i, value in enumerate(survived_count.values):\r\n",
        "  plt.text(i, value-20, str(value), fontsize=12, color='white',\r\n",
        "           horizontalalignment='center', verticalalignment='center')\r\n",
        "#plt.text(1,0,'hello', horizontalalignment='center', verticalalignment='center')\r\n",
        "plt.show()\r\n",
        "\r\n"
      ],
      "execution_count": 78,
      "outputs": [
        {
          "output_type": "display_data",
          "data": {
            "image/png": "[encoded data removed]",
            "text/plain": [
              "<Figure size 288x360 with 1 Axes>"
            ]
          },
          "metadata": {
            "tags": []
          }
        }
      ]
    },
    {
      "cell_type": "code",
      "metadata": {
        "id": "-tg-D5kaLEnJ"
      },
      "source": [
        ""
      ],
      "execution_count": null,
      "outputs": []
    }
  ]
}