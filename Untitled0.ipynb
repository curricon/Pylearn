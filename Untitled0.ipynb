{
  "nbformat": 4,
  "nbformat_minor": 0,
  "metadata": {
    "colab": {
      "name": "Untitled0.ipynb",
      "provenance": [],
      "collapsed_sections": [],
      "authorship_tag": "ABX9TyMku4tth+0FNss+blGQk0F/"
    },
    "kernelspec": {
      "name": "python3",
      "display_name": "Python 3"
    }
  },
  "cells": [
    {
      "cell_type": "code",
      "metadata": {
        "id": "FTFuupOeOapV"
      },
      "source": [
        "!pip install discord.py\r\n",
        "!pip install pycoingecko"
      ],
      "execution_count": null,
      "outputs": []
    },
    {
      "cell_type": "code",
      "metadata": {
        "id": "NsaQ7xyy3nEA"
      },
      "source": [
        "from pycoingecko import CoinGeckoAPI\r\n",
        "cg = CoinGeckoAPI()"
      ],
      "execution_count": null,
      "outputs": []
    },
    {
      "cell_type": "code",
      "metadata": {
        "id": "HBNuJkTH6pZk"
      },
      "source": [
        "import discord\r\n",
        "client = discord.Client()\r\n",
        "\r\n",
        "@client.event\r\n",
        "async def on_ready():\r\n",
        "    print('We have logged in as {0.user}'.format(client))\r\n",
        "\r\n",
        "@client.event\r\n",
        "async def on_message(message):\r\n",
        "    if message.author == client.user:\r\n",
        "        return\r\n",
        "\r\n",
        "    if message.content.startswith('$hello'):\r\n",
        "        await message.channel.send('Hello!')\r\n",
        "\r\n",
        "client.run('token')"
      ],
      "execution_count": null,
      "outputs": []
    },
    {
      "cell_type": "code",
      "metadata": {
        "id": "L1Hc44TK7WmF"
      },
      "source": [
        ""
      ],
      "execution_count": null,
      "outputs": []
    }
  ]
}